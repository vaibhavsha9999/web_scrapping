{
 "cells": [
  {
   "cell_type": "code",
   "execution_count": 1,
   "id": "fad37f69",
   "metadata": {},
   "outputs": [],
   "source": [
    "from selenium import webdriver\n",
    "from selenium.webdriver.common.by import By\n",
    "import pandas as pd"
   ]
  },
  {
   "cell_type": "code",
   "execution_count": 2,
   "id": "87d5539f",
   "metadata": {},
   "outputs": [],
   "source": [
    "driver=webdriver.Chrome()"
   ]
  },
  {
   "cell_type": "code",
   "execution_count": 3,
   "id": "02538911",
   "metadata": {},
   "outputs": [],
   "source": [
    "driver.get(\"https://www.google.com/search?q=Data+Science&authuser=1&tbm=nws&ei=-teKZLPPHofz4-EPiNe1EA&start=0&sa=N&ved=2ahUKEwiztMiw-cT_AhWH-TgGHYhrDQI4HhDy0wN6BAgEEAQ&biw=1366&bih=653&dpr=1\")"
   ]
  },
  {
   "cell_type": "code",
   "execution_count": 15,
   "id": "f6541d5b",
   "metadata": {},
   "outputs": [],
   "source": [
    "title = []\n",
    "url = []\n",
    "summary = []\n",
    "date = []"
   ]
  },
  {
   "cell_type": "code",
   "execution_count": 16,
   "id": "0d27c732",
   "metadata": {},
   "outputs": [],
   "source": [
    "#Extracting Data\n",
    "\n",
    "while True:\n",
    "    if int(driver.find_element(By.XPATH,\".//td[@class = 'YyVfkd']\").text) == 21:\n",
    "        break\n",
    "    posts = driver.find_elements(By.XPATH,\".//div[@data-hveid='CBcQAA']/div\")\n",
    "    for post in posts:\n",
    "        url.append(post.find_element(By.XPATH,\".//a\").get_attribute('href'))\n",
    "        title.append(post.find_element(By.XPATH,\".//div[@class = 'n0jPhd ynAwRc MBeuO nDgy9d']\").text)\n",
    "        summary.append(post.find_element(By.XPATH,\".//div[@class = 'GI74Re nDgy9d']\").text)\n",
    "        date.append(post.find_element(By.XPATH,\".//div[@class = 'OSrXXb rbYSKb LfVVr']\").text)\n",
    "    driver.find_elements(By.XPATH,\".//td[@class='d6cvqb BBwThe']\")[1].click()\n",
    "    "
   ]
  },
  {
   "cell_type": "code",
   "execution_count": 17,
   "id": "c21ec7ad",
   "metadata": {},
   "outputs": [],
   "source": [
    "df = pd.DataFrame(list(zip(url,title,summary,date)),columns=['URL','Title','Summary','Date'])"
   ]
  },
  {
   "cell_type": "code",
   "execution_count": 19,
   "id": "cf25c54a",
   "metadata": {},
   "outputs": [],
   "source": [
    "from datetime import datetime, timedelta\n",
    "\n",
    "#Function to parse the date\n",
    "def convert_relative_time(relative_time):\n",
    "    now = datetime.now()\n",
    "    \n",
    "    #Handling time with min, hour and second\n",
    "    if 'second' in relative_time or 'min' in relative_time or 'hour' in relative_time:\n",
    "\n",
    "        if 'second' in relative_time:\n",
    "            delta = timedelta(seconds=int(relative_time.split()[0]))\n",
    "        elif 'minute' in relative_time:\n",
    "            delta = timedelta(minutes=int(relative_time.split()[0]))\n",
    "        else:\n",
    "            delta = timedelta(hours=int(relative_time.split()[0]))\n",
    "        \n",
    "        converted_date = now - delta\n",
    "\n",
    "    #Handling Day, week and month\n",
    "    \n",
    "    elif 'day' in relative_time or 'week' in relative_time or 'month' in relative_time:\n",
    "\n",
    "        if 'day' in relative_time:\n",
    "            delta = timedelta(days=int(relative_time.split()[0]))\n",
    "        elif 'week' in relative_time:\n",
    "            delta = timedelta(weeks=int(relative_time.split()[0]))\n",
    "        else:\n",
    "            delta = timedelta(days=int(relative_time.split()[0]) * 30)  \n",
    "        \n",
    "        converted_date = now - delta\n",
    "\n",
    "    #Returning original if the date is already formated\n",
    "    else:\n",
    "        return relative_time\n",
    "    \n",
    "    return str(converted_date.date())\n",
    "\n",
    "\n"
   ]
  },
  {
   "cell_type": "code",
   "execution_count": 22,
   "id": "cedb5b88",
   "metadata": {},
   "outputs": [],
   "source": [
    "df[\"Date_parsed\"] = df['Date'].apply(convert_relative_time)\n",
    "df['Date_parsed'] = pd.to_datetime(df['Date_parsed'])"
   ]
  },
  {
   "cell_type": "code",
   "execution_count": 23,
   "id": "9d328476",
   "metadata": {},
   "outputs": [],
   "source": [
    "df.to_csv('Data.csv',encoding = 'utf-8-sig')"
   ]
  },
  {
   "cell_type": "code",
   "execution_count": 4,
   "id": "3b5d5de2",
   "metadata": {},
   "outputs": [],
   "source": [
    "posts = driver.find_elements(By.XPATH,\".//div[@data-hveid='CBcQAA']/div\")"
   ]
  },
  {
   "cell_type": "code",
   "execution_count": 14,
   "id": "bed4e064",
   "metadata": {},
   "outputs": [
    {
     "data": {
      "text/plain": [
       "'1 day ago'"
      ]
     },
     "execution_count": 14,
     "metadata": {},
     "output_type": "execute_result"
    }
   ],
   "source": [
    "posts[2].find_element(By.XPATH,\".//div[@class = 'OSrXXb rbYSKb LfVVr']\").text"
   ]
  },
  {
   "cell_type": "code",
   "execution_count": null,
   "id": "5a6d0502",
   "metadata": {},
   "outputs": [],
   "source": []
  }
 ],
 "metadata": {
  "kernelspec": {
   "display_name": "Python 3 (ipykernel)",
   "language": "python",
   "name": "python3"
  },
  "language_info": {
   "codemirror_mode": {
    "name": "ipython",
    "version": 3
   },
   "file_extension": ".py",
   "mimetype": "text/x-python",
   "name": "python",
   "nbconvert_exporter": "python",
   "pygments_lexer": "ipython3",
   "version": "3.9.13"
  }
 },
 "nbformat": 4,
 "nbformat_minor": 5
}
